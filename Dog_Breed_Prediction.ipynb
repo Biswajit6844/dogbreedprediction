{
  "nbformat": 4,
  "nbformat_minor": 0,
  "metadata": {
    "colab": {
      "provenance": [],
      "gpuType": "T4",
      "include_colab_link": true
    },
    "kernelspec": {
      "display_name": "Python 3",
      "name": "python3"
    },
    "accelerator": "GPU"
  },
  "cells": [
    {
      "cell_type": "markdown",
      "metadata": {
        "id": "view-in-github",
        "colab_type": "text"
      },
      "source": [
        "<a href=\"https://colab.research.google.com/github/Biswajit6844/dogbreedprediction/blob/main/Dog_Breed_Prediction.ipynb\" target=\"_parent\"><img src=\"https://colab.research.google.com/assets/colab-badge.svg\" alt=\"Open In Colab\"/></a>"
      ]
    },
    {
      "cell_type": "markdown",
      "metadata": {
        "id": "dFONdRncx8Cr"
      },
      "source": [
        "## Dog Breed Prediction"
      ]
    },
    {
      "cell_type": "markdown",
      "metadata": {
        "id": "MQoHS1rtx4xJ"
      },
      "source": [
        "In this project, we will see how to use Keras and TensorFlow to build, train, and test a Convolutional Neural Network capable of identifying the breed of a dog in a supplied image. This is a supervised learning problem, specifically a multiclass classification problem."
      ]
    },
    {
      "cell_type": "code",
      "metadata": {
        "id": "IJfUukN_kiEx",
        "colab": {
          "base_uri": "https://localhost:8080/",
          "height": 92
        },
        "outputId": "304c95ac-9932-4f2a-8866-8d62b792dc9f"
      },
      "source": [
        "# Run this cell and select the kaggle.json file downloaded\n",
        "# from the Kaggle account settings page.\n",
        "from google.colab import files\n",
        "files.upload()"
      ],
      "execution_count": 1,
      "outputs": [
        {
          "output_type": "display_data",
          "data": {
            "text/plain": [
              "<IPython.core.display.HTML object>"
            ],
            "text/html": [
              "\n",
              "     <input type=\"file\" id=\"files-3336bc2f-6f86-4a34-a0c9-8884cf786689\" name=\"files[]\" multiple disabled\n",
              "        style=\"border:none\" />\n",
              "     <output id=\"result-3336bc2f-6f86-4a34-a0c9-8884cf786689\">\n",
              "      Upload widget is only available when the cell has been executed in the\n",
              "      current browser session. Please rerun this cell to enable.\n",
              "      </output>\n",
              "      <script>// Copyright 2017 Google LLC\n",
              "//\n",
              "// Licensed under the Apache License, Version 2.0 (the \"License\");\n",
              "// you may not use this file except in compliance with the License.\n",
              "// You may obtain a copy of the License at\n",
              "//\n",
              "//      http://www.apache.org/licenses/LICENSE-2.0\n",
              "//\n",
              "// Unless required by applicable law or agreed to in writing, software\n",
              "// distributed under the License is distributed on an \"AS IS\" BASIS,\n",
              "// WITHOUT WARRANTIES OR CONDITIONS OF ANY KIND, either express or implied.\n",
              "// See the License for the specific language governing permissions and\n",
              "// limitations under the License.\n",
              "\n",
              "/**\n",
              " * @fileoverview Helpers for google.colab Python module.\n",
              " */\n",
              "(function(scope) {\n",
              "function span(text, styleAttributes = {}) {\n",
              "  const element = document.createElement('span');\n",
              "  element.textContent = text;\n",
              "  for (const key of Object.keys(styleAttributes)) {\n",
              "    element.style[key] = styleAttributes[key];\n",
              "  }\n",
              "  return element;\n",
              "}\n",
              "\n",
              "// Max number of bytes which will be uploaded at a time.\n",
              "const MAX_PAYLOAD_SIZE = 100 * 1024;\n",
              "\n",
              "function _uploadFiles(inputId, outputId) {\n",
              "  const steps = uploadFilesStep(inputId, outputId);\n",
              "  const outputElement = document.getElementById(outputId);\n",
              "  // Cache steps on the outputElement to make it available for the next call\n",
              "  // to uploadFilesContinue from Python.\n",
              "  outputElement.steps = steps;\n",
              "\n",
              "  return _uploadFilesContinue(outputId);\n",
              "}\n",
              "\n",
              "// This is roughly an async generator (not supported in the browser yet),\n",
              "// where there are multiple asynchronous steps and the Python side is going\n",
              "// to poll for completion of each step.\n",
              "// This uses a Promise to block the python side on completion of each step,\n",
              "// then passes the result of the previous step as the input to the next step.\n",
              "function _uploadFilesContinue(outputId) {\n",
              "  const outputElement = document.getElementById(outputId);\n",
              "  const steps = outputElement.steps;\n",
              "\n",
              "  const next = steps.next(outputElement.lastPromiseValue);\n",
              "  return Promise.resolve(next.value.promise).then((value) => {\n",
              "    // Cache the last promise value to make it available to the next\n",
              "    // step of the generator.\n",
              "    outputElement.lastPromiseValue = value;\n",
              "    return next.value.response;\n",
              "  });\n",
              "}\n",
              "\n",
              "/**\n",
              " * Generator function which is called between each async step of the upload\n",
              " * process.\n",
              " * @param {string} inputId Element ID of the input file picker element.\n",
              " * @param {string} outputId Element ID of the output display.\n",
              " * @return {!Iterable<!Object>} Iterable of next steps.\n",
              " */\n",
              "function* uploadFilesStep(inputId, outputId) {\n",
              "  const inputElement = document.getElementById(inputId);\n",
              "  inputElement.disabled = false;\n",
              "\n",
              "  const outputElement = document.getElementById(outputId);\n",
              "  outputElement.innerHTML = '';\n",
              "\n",
              "  const pickedPromise = new Promise((resolve) => {\n",
              "    inputElement.addEventListener('change', (e) => {\n",
              "      resolve(e.target.files);\n",
              "    });\n",
              "  });\n",
              "\n",
              "  const cancel = document.createElement('button');\n",
              "  inputElement.parentElement.appendChild(cancel);\n",
              "  cancel.textContent = 'Cancel upload';\n",
              "  const cancelPromise = new Promise((resolve) => {\n",
              "    cancel.onclick = () => {\n",
              "      resolve(null);\n",
              "    };\n",
              "  });\n",
              "\n",
              "  // Wait for the user to pick the files.\n",
              "  const files = yield {\n",
              "    promise: Promise.race([pickedPromise, cancelPromise]),\n",
              "    response: {\n",
              "      action: 'starting',\n",
              "    }\n",
              "  };\n",
              "\n",
              "  cancel.remove();\n",
              "\n",
              "  // Disable the input element since further picks are not allowed.\n",
              "  inputElement.disabled = true;\n",
              "\n",
              "  if (!files) {\n",
              "    return {\n",
              "      response: {\n",
              "        action: 'complete',\n",
              "      }\n",
              "    };\n",
              "  }\n",
              "\n",
              "  for (const file of files) {\n",
              "    const li = document.createElement('li');\n",
              "    li.append(span(file.name, {fontWeight: 'bold'}));\n",
              "    li.append(span(\n",
              "        `(${file.type || 'n/a'}) - ${file.size} bytes, ` +\n",
              "        `last modified: ${\n",
              "            file.lastModifiedDate ? file.lastModifiedDate.toLocaleDateString() :\n",
              "                                    'n/a'} - `));\n",
              "    const percent = span('0% done');\n",
              "    li.appendChild(percent);\n",
              "\n",
              "    outputElement.appendChild(li);\n",
              "\n",
              "    const fileDataPromise = new Promise((resolve) => {\n",
              "      const reader = new FileReader();\n",
              "      reader.onload = (e) => {\n",
              "        resolve(e.target.result);\n",
              "      };\n",
              "      reader.readAsArrayBuffer(file);\n",
              "    });\n",
              "    // Wait for the data to be ready.\n",
              "    let fileData = yield {\n",
              "      promise: fileDataPromise,\n",
              "      response: {\n",
              "        action: 'continue',\n",
              "      }\n",
              "    };\n",
              "\n",
              "    // Use a chunked sending to avoid message size limits. See b/62115660.\n",
              "    let position = 0;\n",
              "    do {\n",
              "      const length = Math.min(fileData.byteLength - position, MAX_PAYLOAD_SIZE);\n",
              "      const chunk = new Uint8Array(fileData, position, length);\n",
              "      position += length;\n",
              "\n",
              "      const base64 = btoa(String.fromCharCode.apply(null, chunk));\n",
              "      yield {\n",
              "        response: {\n",
              "          action: 'append',\n",
              "          file: file.name,\n",
              "          data: base64,\n",
              "        },\n",
              "      };\n",
              "\n",
              "      let percentDone = fileData.byteLength === 0 ?\n",
              "          100 :\n",
              "          Math.round((position / fileData.byteLength) * 100);\n",
              "      percent.textContent = `${percentDone}% done`;\n",
              "\n",
              "    } while (position < fileData.byteLength);\n",
              "  }\n",
              "\n",
              "  // All done.\n",
              "  yield {\n",
              "    response: {\n",
              "      action: 'complete',\n",
              "    }\n",
              "  };\n",
              "}\n",
              "\n",
              "scope.google = scope.google || {};\n",
              "scope.google.colab = scope.google.colab || {};\n",
              "scope.google.colab._files = {\n",
              "  _uploadFiles,\n",
              "  _uploadFilesContinue,\n",
              "};\n",
              "})(self);\n",
              "</script> "
            ]
          },
          "metadata": {}
        },
        {
          "output_type": "stream",
          "name": "stdout",
          "text": [
            "Saving kaggle.json to kaggle (1).json\n"
          ]
        },
        {
          "output_type": "execute_result",
          "data": {
            "text/plain": [
              "{'kaggle (1).json': b'{\"username\":\"biswajitsethy1234\",\"key\":\"615347924f6e794f957a2fa0de1000e2\"}'}"
            ]
          },
          "metadata": {},
          "execution_count": 1
        }
      ]
    },
    {
      "cell_type": "markdown",
      "metadata": {
        "id": "t3qAYHiDC_Z-"
      },
      "source": [
        "We will start by connecting to Kaggle using Kaggle API which can be downloaded from your Kaggle account's settings and uploading it here(upload box)."
      ]
    },
    {
      "cell_type": "code",
      "metadata": {
        "id": "m34QitafPDd5"
      },
      "source": [
        "# Next, install the Kaggle API client.\n",
        "!pip install -q kaggle"
      ],
      "execution_count": 2,
      "outputs": []
    },
    {
      "cell_type": "markdown",
      "metadata": {
        "id": "gtVmkwlDC96u"
      },
      "source": [
        "Next we will install Kaggle API using pip installation."
      ]
    },
    {
      "cell_type": "code",
      "metadata": {
        "id": "1js5PPVFPm-P"
      },
      "source": [
        "# The Kaggle API client expects this file to be in ~/.kaggle, so move it there.\n",
        "!mkdir -p ~/.kaggle\n",
        "!cp kaggle.json ~/.kaggle/\n",
        "\n",
        "# This permissions change avoids a warning on Kaggle tool startup.\n",
        "!chmod 600 ~/.kaggle/kaggle.json"
      ],
      "execution_count": 3,
      "outputs": []
    },
    {
      "cell_type": "markdown",
      "metadata": {
        "id": "jieIhBTXEO5B"
      },
      "source": [
        "Setting up Kaggle using Kaggle API."
      ]
    },
    {
      "cell_type": "code",
      "metadata": {
        "id": "F7hxbrceg3bC",
        "colab": {
          "base_uri": "https://localhost:8080/"
        },
        "outputId": "a846c6f8-4be7-477f-8ab1-c4dd7b1d0de1"
      },
      "source": [
        "# Creating directory and changing the current working directory\n",
        "!mkdir dog_dataset\n",
        "%cd dog_dataset"
      ],
      "execution_count": 4,
      "outputs": [
        {
          "output_type": "stream",
          "name": "stdout",
          "text": [
            "mkdir: cannot create directory ‘dog_dataset’: File exists\n",
            "/content/dog_dataset\n"
          ]
        }
      ]
    },
    {
      "cell_type": "markdown",
      "metadata": {
        "id": "wDLPCNfIEapm"
      },
      "source": [
        "To store the data we will create a new directory and make it as current working directory."
      ]
    },
    {
      "cell_type": "code",
      "metadata": {
        "id": "wi9hi_O7vEC-",
        "colab": {
          "base_uri": "https://localhost:8080/"
        },
        "outputId": "a87c9653-b746-4aa1-b65d-85c3286e8133"
      },
      "source": [
        "# Searching for dataset\n",
        "!kaggle datasets list -s dogbreedidfromcomp"
      ],
      "execution_count": 5,
      "outputs": [
        {
          "output_type": "stream",
          "name": "stdout",
          "text": [
            "ref                                title                    size  lastUpdated          downloadCount  voteCount  usabilityRating  \n",
            "---------------------------------  ----------------------  -----  -------------------  -------------  ---------  ---------------  \n",
            "catherinehorng/dogbreedidfromcomp  dog-breed-id-from-comp  691MB  2020-06-26 03:09:05           4102          8  0.1764706        \n"
          ]
        }
      ]
    },
    {
      "cell_type": "markdown",
      "metadata": {
        "id": "YCyzo_vDEsrA"
      },
      "source": [
        "Searching Kaggle for the required dataset using search option(-s) with title 'dogbreedidfromcomp'. We can also use different search options like searching competitions, notebooks, kernels, datasets, etc."
      ]
    },
    {
      "cell_type": "code",
      "metadata": {
        "id": "7U0drGHjfPyY",
        "colab": {
          "base_uri": "https://localhost:8080/"
        },
        "outputId": "ccab7f0a-b271-48a7-bf68-8f2cb5b7e565"
      },
      "source": [
        "# Downloading dataset and coming out of directory\n",
        "!kaggle datasets download catherinehorng/dogbreedidfromcomp\n",
        "%cd .."
      ],
      "execution_count": 6,
      "outputs": [
        {
          "output_type": "stream",
          "name": "stdout",
          "text": [
            "Downloading dogbreedidfromcomp.zip to /content/dog_dataset\n",
            " 97% 673M/691M [00:07<00:00, 175MB/s]\n",
            "100% 691M/691M [00:07<00:00, 91.0MB/s]\n",
            "/content\n"
          ]
        }
      ]
    },
    {
      "cell_type": "markdown",
      "metadata": {
        "id": "VzkFPAFdFVPv"
      },
      "source": [
        "After searching the data next step would be downloading the data into collab notebook using references found in search option."
      ]
    },
    {
      "cell_type": "code",
      "metadata": {
        "id": "_G_S6-F1Qs-U",
        "colab": {
          "base_uri": "https://localhost:8080/"
        },
        "outputId": "8ee3cf9f-22a0-4392-ad24-f35046d64d5a"
      },
      "source": [
        "# Unzipping downloaded file and removing unusable file\n",
        "!unzip dog_dataset/dogbreedidfromcomp.zip -d dog_dataset\n",
        "!rm dog_dataset/dogbreedidfromcomp.zip\n",
        "!rm dog_dataset/sample_submission.csv"
      ],
      "execution_count": null,
      "outputs": [
        {
          "output_type": "stream",
          "name": "stdout",
          "text": [
            "Archive:  dog_dataset/dogbreedidfromcomp.zip\n",
            "replace dog_dataset/labels.csv? [y]es, [n]o, [A]ll, [N]one, [r]ename: "
          ]
        }
      ]
    },
    {
      "cell_type": "markdown",
      "metadata": {
        "id": "CPJvJVrUF3bK"
      },
      "source": [
        "We will unzip the data which is downloaded and remove the irrelevant files."
      ]
    },
    {
      "cell_type": "code",
      "metadata": {
        "id": "Ko_oKFfpvj8A"
      },
      "source": [
        "# Important library imports\n",
        "import numpy as np\n",
        "import pandas as pd\n",
        "import matplotlib.pyplot as plt\n",
        "\n",
        "from tqdm import tqdm\n",
        "from keras.preprocessing import image\n",
        "from sklearn.preprocessing import label_binarize\n",
        "from sklearn.model_selection import train_test_split\n",
        "from keras.models import Sequential\n",
        "from keras.layers import Dense, Dropout, Flatten, Conv2D, MaxPool2D\n",
        "from keras.optimizers import Adam\n",
        "import keras.utils as image"
      ],
      "execution_count": null,
      "outputs": []
    },
    {
      "cell_type": "markdown",
      "metadata": {
        "id": "K83AVkzUGFQP"
      },
      "source": [
        "Importing required libraries."
      ]
    },
    {
      "cell_type": "code",
      "metadata": {
        "id": "vrZIWCO4wEFn"
      },
      "source": [
        "# Read the labels.csv file and checking shape and records\n",
        "labels_all = pd.read_csv(\"dog_dataset/labels.csv\")\n",
        "print(labels_all.shape)\n",
        "labels_all.head()"
      ],
      "execution_count": null,
      "outputs": []
    },
    {
      "cell_type": "markdown",
      "metadata": {
        "id": "K5myFXEQGRPD"
      },
      "source": [
        "Loading the labels data into dataframe and viewing it. Here we analysed that labels contains 10222 rows and 2 columns.  "
      ]
    },
    {
      "cell_type": "code",
      "metadata": {
        "id": "xgoPji7ywRjX"
      },
      "source": [
        "# Visualize the number of each breeds\n",
        "breeds_all = labels_all[\"breed\"]\n",
        "breed_counts = breeds_all.value_counts()\n",
        "breed_counts.head()"
      ],
      "execution_count": null,
      "outputs": []
    },
    {
      "cell_type": "markdown",
      "metadata": {
        "id": "iM5bMsyPGyKe"
      },
      "source": [
        "Here we are finding out the count per class i.e. total data in each class using value_counts() function."
      ]
    },
    {
      "cell_type": "code",
      "metadata": {
        "id": "2J7x-UVxwVs6"
      },
      "source": [
        "# Selecting first 3 breeds (Limitation due to computation power)\n",
        "CLASS_NAMES = ['scottish_deerhound','maltese_dog','bernese_mountain_dog']\n",
        "labels = labels_all[(labels_all['breed'].isin(CLASS_NAMES))]\n",
        "labels = labels.reset_index()\n",
        "labels.head()"
      ],
      "execution_count": null,
      "outputs": []
    },
    {
      "cell_type": "markdown",
      "metadata": {
        "id": "Ft9w6t5LHOrO"
      },
      "source": [
        "We will work on only 3 breeds due to limited computational power. You can consider more classes as per your system computational power."
      ]
    },
    {
      "cell_type": "code",
      "metadata": {
        "id": "vR0_yYY9w_y8"
      },
      "source": [
        "# Creating numpy matrix with zeros\n",
        "X_data = np.zeros((len(labels), 224, 224, 3), dtype='float32')\n",
        "# One hot encoding\n",
        "Y_data = label_binarize(labels['breed'], classes = CLASS_NAMES)\n",
        "\n",
        "# Reading and converting image to numpy array and normalizing dataset\n",
        "for i in tqdm(range(len(labels))):\n",
        "    img = image.load_img('dog_dataset/train/%s.jpg' % labels['id'][i], target_size=(224, 224))\n",
        "    img = image.img_to_array(img)\n",
        "    x = np.expand_dims(img.copy(), axis=0)\n",
        "    X_data[i] = x / 255.0\n",
        "\n",
        "# Printing train image and one hot encode shape & size\n",
        "print('\\nTrain Images shape: ',X_data.shape,' size: {:,}'.format(X_data.size))\n",
        "print('One-hot encoded output shape: ',Y_data.shape,' size: {:,}'.format(Y_data.size))"
      ],
      "execution_count": null,
      "outputs": []
    },
    {
      "cell_type": "markdown",
      "metadata": {
        "id": "md38GlW9H0hM"
      },
      "source": [
        "As we are working with the classification dataset first we need to one hot encode the target value i.e. the classes. After that we will read images and convert them into numpy array and finally normalizing the array."
      ]
    },
    {
      "cell_type": "code",
      "metadata": {
        "id": "3Xvd5r4MxcLJ"
      },
      "source": [
        "# Building the Model\n",
        "model = Sequential()\n",
        "\n",
        "model.add(Conv2D(filters = 64, kernel_size = (5,5), activation ='relu', input_shape = (224,224,3)))\n",
        "model.add(MaxPool2D(pool_size=(2,2)))\n",
        "\n",
        "model.add(Conv2D(filters = 32, kernel_size = (3,3), activation ='relu', kernel_regularizer = 'l2'))\n",
        "model.add(MaxPool2D(pool_size=(2,2)))\n",
        "\n",
        "model.add(Conv2D(filters = 16, kernel_size = (7,7), activation ='relu', kernel_regularizer = 'l2'))\n",
        "model.add(MaxPool2D(pool_size=(2,2)))\n",
        "\n",
        "model.add(Conv2D(filters = 8, kernel_size = (5,5), activation ='relu', kernel_regularizer = 'l2'))\n",
        "model.add(MaxPool2D(pool_size=(2,2)))\n",
        "\n",
        "model.add(Flatten())\n",
        "model.add(Dense(128, activation = \"relu\", kernel_regularizer = 'l2'))\n",
        "model.add(Dense(64, activation = \"relu\", kernel_regularizer = 'l2'))\n",
        "model.add(Dense(len(CLASS_NAMES), activation = \"softmax\"))\n",
        "\n",
        "model.compile(loss = 'categorical_crossentropy', optimizer = Adam(0.0001),metrics=['accuracy'])\n",
        "\n",
        "model.summary()"
      ],
      "execution_count": null,
      "outputs": []
    },
    {
      "cell_type": "markdown",
      "metadata": {
        "id": "f3KpqhclJEi-"
      },
      "source": [
        "Next we will create a network architecture for the model. We have used different types of layers according to their features namely Conv_2d (It is used to create a convolutional kernel that is convolved with the input layer to produce the output tensor), max_pooling2d (It is a downsampling technique which takes out the maximum value over the window defined by poolsize), flatten (It flattens the input and creates a 1D output), Dense (Dense layer produce the output as the dot product of input and kernel).\n"
      ]
    },
    {
      "cell_type": "markdown",
      "metadata": {
        "id": "uFqLiTKqMXWM"
      },
      "source": [
        "After defining the network architecture we found out the total parameters as 162,619."
      ]
    },
    {
      "cell_type": "code",
      "metadata": {
        "id": "z2OwiYRrxxJ_"
      },
      "source": [
        "# Splitting the data set into training and testing data sets\n",
        "X_train_and_val, X_test, Y_train_and_val, Y_test = train_test_split(X_data, Y_data, test_size = 0.1)\n",
        "# Splitting the training data set into training and validation data sets\n",
        "X_train, X_val, Y_train, Y_val = train_test_split(X_train_and_val, Y_train_and_val, test_size = 0.2)"
      ],
      "execution_count": null,
      "outputs": []
    },
    {
      "cell_type": "markdown",
      "metadata": {
        "id": "pwYpekxrJZRr"
      },
      "source": [
        "After defining the network architecture we will start with splitting the test and train data then dividing train data in train and validation data."
      ]
    },
    {
      "cell_type": "code",
      "metadata": {
        "id": "Kzq2hLsGyFTr"
      },
      "source": [
        "# Training the model\n",
        "epochs = 100\n",
        "batch_size = 128\n",
        "\n",
        "history = model.fit(X_train, Y_train, batch_size = batch_size, epochs = epochs,\n",
        "                    validation_data = (X_val, Y_val))"
      ],
      "execution_count": null,
      "outputs": []
    },
    {
      "cell_type": "markdown",
      "metadata": {
        "id": "YSFnRyfKJv4a"
      },
      "source": [
        "Now we will train our model on 100 epochs and a batch size of 128. You can try using more number of epochs to increase accuracy. During each epochs we can see how the model is performing by viewing the training and validation accuracy."
      ]
    },
    {
      "cell_type": "code",
      "metadata": {
        "id": "BvK8_JKKyLJJ"
      },
      "source": [
        "# Plot the training history\n",
        "plt.figure(figsize=(12, 5))\n",
        "plt.plot(history.history['accuracy'], color='r')\n",
        "plt.plot(history.history['val_accuracy'], color='b')\n",
        "plt.title('Model Accuracy')\n",
        "plt.ylabel('Accuracy')\n",
        "plt.xlabel('Epochs')\n",
        "plt.legend(['train', 'val'])\n",
        "\n",
        "plt.show()"
      ],
      "execution_count": null,
      "outputs": []
    },
    {
      "cell_type": "markdown",
      "metadata": {
        "id": "CkfvA9XyNVtU"
      },
      "source": [
        "Here we analyse how the model is learning with each epoch in terms of accuracy."
      ]
    },
    {
      "cell_type": "code",
      "metadata": {
        "id": "xXpyaiyeykly"
      },
      "source": [
        "Y_pred = model.predict(X_test)\n",
        "score = model.evaluate(X_test, Y_test)\n",
        "print('Accuracy over the test set: \\n ', round((score[1]*100), 2), '%')"
      ],
      "execution_count": null,
      "outputs": []
    },
    {
      "cell_type": "markdown",
      "metadata": {
        "id": "rkbtSrubNj3C"
      },
      "source": [
        "We will use predict function to make predictions using this model also we are finding out the accuracy on the test set."
      ]
    },
    {
      "cell_type": "code",
      "metadata": {
        "id": "nY-jB9t5ylME"
      },
      "source": [
        "# Plotting image to compare\n",
        "plt.imshow(X_test[1,:,:,:])\n",
        "plt.show()\n",
        "\n",
        "# Finding max value from predition list and comaparing original value vs predicted\n",
        "print(\"Originally : \",labels['breed'][np.argmax(Y_test[1])])\n",
        "print(\"Predicted : \",labels['breed'][np.argmax(Y_pred[1])])"
      ],
      "execution_count": null,
      "outputs": []
    },
    {
      "cell_type": "markdown",
      "metadata": {
        "id": "bZgi683JOYcT"
      },
      "source": [
        "Here you can see image with its original and predicted label."
      ]
    },
    {
      "cell_type": "markdown",
      "metadata": {
        "id": "MaAbK0hZPFGF"
      },
      "source": [
        "## Conclusion:"
      ]
    },
    {
      "cell_type": "markdown",
      "metadata": {
        "id": "UItQLYGyPNAO"
      },
      "source": [
        "We started with downloading the dataset creating the model and finding out the predictions using the model. We can optimize different hyper parameters in order to tune this model for a higher accuracy. This model can be used to predict different breeds of dogs which can be further used by different NGO's working on saving animals and for educational purposes also."
      ]
    },
    {
      "cell_type": "code",
      "metadata": {
        "id": "Y9hIc_hzQDoB"
      },
      "source": [
        "model.save(\"dog_breed.h5\")"
      ],
      "execution_count": null,
      "outputs": []
    },
    {
      "cell_type": "code",
      "source": [
        "!pip install streamlit\n"
      ],
      "metadata": {
        "id": "BiIi_5dwOUHj"
      },
      "execution_count": null,
      "outputs": []
    },
    {
      "cell_type": "code",
      "source": [
        "!pip install pyngrok"
      ],
      "metadata": {
        "id": "cObsVU8jPGTF"
      },
      "execution_count": null,
      "outputs": []
    },
    {
      "cell_type": "code",
      "source": [
        "!pip install -q streamlit"
      ],
      "metadata": {
        "id": "JUK-k8Qffcuu"
      },
      "execution_count": null,
      "outputs": []
    },
    {
      "cell_type": "code",
      "source": [
        "\n",
        "%%writefile app.py\n",
        "#Library imports\n",
        "\n",
        "import numpy as np\n",
        "import streamlit as st\n",
        "import cv2\n",
        "from keras.models import load_model\n",
        "\n",
        "\n",
        "#Loading the Model\n",
        "model = load_model('dog_breed.h5')\n",
        "\n",
        "#Name of Classes\n",
        "CLASS_NAMES = ['Scottish Deerhound','Maltese Dog','Bernese Mountain Dog']\n",
        "\n",
        "#Setting Title of App\n",
        "st.title(\"Dog Breed Prediction\")\n",
        "st.markdown(\"Upload an image of the dog\")\n",
        "\n",
        "#Uploading the dog image\n",
        "dog_image = st.file_uploader(\"Choose an image...\", type=\"png\")\n",
        "submit = st.button('Predict')\n",
        "#On predict button click\n",
        "if submit:\n",
        "\n",
        "\n",
        "    if dog_image is not None:\n",
        "\n",
        "        # Convert the file to an opencv image.\n",
        "        file_bytes = np.asarray(bytearray(dog_image.read()), dtype=np.uint8)\n",
        "        opencv_image = cv2.imdecode(file_bytes, 1)\n",
        "\n",
        "\n",
        "\n",
        "        # Displaying the image\n",
        "        st.image(opencv_image, channels=\"BGR\")\n",
        "        #Resizing the image\n",
        "        opencv_image = cv2.resize(opencv_image, (224,224))\n",
        "        #Convert image to 4 Dimension\n",
        "        opencv_image.shape = (1,224,224,3)\n",
        "        #Make Prediction\n",
        "        Y_pred = model.predict(opencv_image)\n",
        "\n",
        "        st.title(str(\"The Dog Breed is \"+CLASS_NAMES[np.argmax(Y_pred)]))"
      ],
      "metadata": {
        "id": "SBwW3jCtOKiU"
      },
      "execution_count": null,
      "outputs": []
    },
    {
      "cell_type": "code",
      "source": [
        "!npm install localtunnel"
      ],
      "metadata": {
        "id": "nZbqSEwrgiur"
      },
      "execution_count": null,
      "outputs": []
    },
    {
      "cell_type": "code",
      "source": [
        "!ls"
      ],
      "metadata": {
        "id": "ObUTdbITSaFe"
      },
      "execution_count": null,
      "outputs": []
    },
    {
      "cell_type": "code",
      "source": [
        "!ngrok authtokens 2UTw31vltrhVggNXBUBIFFhzbeu_HSDAMyvCQhzqLkryUMVg"
      ],
      "metadata": {
        "id": "ad4pf_2LashR"
      },
      "execution_count": null,
      "outputs": []
    },
    {
      "cell_type": "code",
      "source": [
        "from pyngrok import ngrok"
      ],
      "metadata": {
        "id": "9ceAGBg4bmLi"
      },
      "execution_count": null,
      "outputs": []
    },
    {
      "cell_type": "code",
      "source": [
        "!pip install pyngrok==4.1.1"
      ],
      "metadata": {
        "id": "_wpP3ksgS99v"
      },
      "execution_count": null,
      "outputs": []
    },
    {
      "cell_type": "code",
      "source": [
        "from pyngrok import ngrok\n",
        "public_url = ngrok.connect(port=’8501')\n",
        "public_url"
      ],
      "metadata": {
        "id": "YIB61euRjUEz"
      },
      "execution_count": null,
      "outputs": []
    },
    {
      "cell_type": "code",
      "source": [],
      "metadata": {
        "id": "1DFw6whIcBAE"
      },
      "execution_count": null,
      "outputs": []
    }
  ]
}